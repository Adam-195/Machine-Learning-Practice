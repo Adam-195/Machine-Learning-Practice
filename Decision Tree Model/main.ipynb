{
 "cells": [
  {
   "cell_type": "code",
   "execution_count": 50,
   "id": "795674da-d7ce-4ba3-b77f-dc2488d5b625",
   "metadata": {
    "scrolled": true
   },
   "outputs": [
    {
     "data": {
      "text/plain": [
       "0.6923076923076923"
      ]
     },
     "execution_count": 50,
     "metadata": {},
     "output_type": "execute_result"
    }
   ],
   "source": [
    "# Using Decision Tree Algo to predict what type of music genre a person likes depending on their gender and age, and the accuracy of the prediction\n",
    "\n",
    "import pandas as pd\n",
    "from sklearn.tree import DecisionTreeClassifier # To get the decision tree algo\n",
    "from sklearn.model_selection import train_test_split # To get the function for accuracy\n",
    "from sklearn.metrics import accuracy_score\n",
    "\n",
    "# Defininf Data\n",
    "data = pd.read_csv('music_age.csv')\n",
    "X = data.drop(columns=['GENRE']) # input data\n",
    "Y = data['GENRE'] # output data\n",
    "X_train, X_test, Y_train, Y_test = train_test_split(X, Y, test_size=0.2) # allocating 20% of data for testing - returns tuple\n",
    "\n",
    "# Decision Tree Algo\n",
    "model = DecisionTreeClassifier()\n",
    "model.fit(X_train, Y_train)\n",
    "predictions = model.predict(X_test)\n",
    "\n",
    "# Accuracy Score func\n",
    "score = accuracy_score(Y_test, predictions) # Returns score of accuracy and prediction\n",
    "score\n"
   ]
  },
  {
   "cell_type": "code",
   "execution_count": 58,
   "id": "f382a07e-61b3-4427-903c-b912f830918c",
   "metadata": {},
   "outputs": [
    {
     "data": {
      "text/plain": [
       "['music_perdictions.joblib']"
      ]
     },
     "execution_count": 58,
     "metadata": {},
     "output_type": "execute_result"
    }
   ],
   "source": [
    "# Building and Training a Model\n",
    "\n",
    "import pandas as pd\n",
    "from sklearn.tree import DecisionTreeClassifier # To get the decision tree algo\n",
    "import joblib\n",
    "\n",
    "# Defininf Data\n",
    "data = pd.read_csv('music_age.csv')\n",
    "X = data.drop(columns=['GENRE']) # input data\n",
    "Y = data['GENRE'] # output data\n",
    "\n",
    "# Decision Tree Algo\n",
    "model = DecisionTreeClassifier()\n",
    "model.fit(X.values, Y)\n",
    "\n",
    "joblib.dump(model, 'music_perdictions.joblib')\n"
   ]
  },
  {
   "cell_type": "code",
   "execution_count": 63,
   "id": "89358bf5-74f3-425d-a2d5-56417f01a649",
   "metadata": {},
   "outputs": [
    {
     "data": {
      "text/plain": [
       "array(['Pink'], dtype=object)"
      ]
     },
     "execution_count": 63,
     "metadata": {},
     "output_type": "execute_result"
    }
   ],
   "source": [
    "# Using prebuilt Model\n",
    "\n",
    "import pandas as pd\n",
    "from sklearn.tree import DecisionTreeClassifier # To get the decision tree algo\n",
    "import joblib\n",
    "\n",
    "# Calling Existing Model\n",
    "model = joblib.load('music_perdictions.joblib')\n",
    "\n",
    "prediction = model.predict([[37, 2]])\n",
    "prediction"
   ]
  },
  {
   "cell_type": "code",
   "execution_count": null,
   "id": "896247dd-0156-41e8-aa11-518ccfd40cc6",
   "metadata": {},
   "outputs": [],
   "source": []
  }
 ],
 "metadata": {
  "kernelspec": {
   "display_name": "Python 3 (ipykernel)",
   "language": "python",
   "name": "python3"
  },
  "language_info": {
   "codemirror_mode": {
    "name": "ipython",
    "version": 3
   },
   "file_extension": ".py",
   "mimetype": "text/x-python",
   "name": "python",
   "nbconvert_exporter": "python",
   "pygments_lexer": "ipython3",
   "version": "3.11.7"
  }
 },
 "nbformat": 4,
 "nbformat_minor": 5
}
